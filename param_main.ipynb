{
 "cells": [
  {
   "cell_type": "code",
   "execution_count": 1,
   "outputs": [],
   "source": [
    "import logging\n",
    "from models import *\n",
    "from train_lstm import *\n",
    "from ax.service.managed_loop import optimize\n",
    "import pickle\n",
    "\n",
    "\n",
    "class ParamSearch:\n",
    "\n",
    "    def __init__(self, x_train, y_train, x_validate, y_validate, epochs, batch_size=100):\n",
    "        self.x_train = x_train\n",
    "        self.y_train = y_train\n",
    "        self.x_validate = x_validate\n",
    "        self.y_validate = y_validate\n",
    "        self.epochs = epochs\n",
    "\n",
    "    def _train_eval(self, params: Dict[str, Union[str, bool, float, int, None]]) -> float:\n",
    "        lstm = AutoRegressiveLSTM(6, 100, 3)\n",
    "        lstm.cuda()\n",
    "        train_silent(lstm, self.x_train, self.y_train, x_validate, y_validate, epochs=self.epochs, batch_size=100, **params)\n",
    "        return evaluate(lstm, self.x_validate, self.y_validate)\n",
    "\n",
    "    def run(self):\n",
    "        best_parameters, values, experiment, model = optimize(\n",
    "            parameters=[\n",
    "                {\"name\": \"lr\", \"type\": \"range\", \"bounds\": [1e-5, 0.1], \"log_scale\": True},\n",
    "                # {\"name\": \"beta1\", \"type\": \"range\", \"bounds\": [0, 1]},\n",
    "                # {\"name\": \"beta2\", \"type\": \"range\", \"bounds\": [0.99, 1], \"log_scale\": True},\n",
    "                {\"name\": \"lr_factor\", \"type\": \"range\", \"bounds\": [0.1, 0.5]},\n",
    "                {\"name\": \"patience\", \"type\": \"range\", \"bounds\": [100, 1500]},\n",
    "            ],\n",
    "            evaluation_function=self._train_eval,\n",
    "            objective_name='mse',\n",
    "        )\n",
    "        print(\"Found best parameters: %s\", best_parameters)\n",
    "        return best_parameters, values, experiment, model"
   ],
   "metadata": {
    "collapsed": false,
    "pycharm": {
     "name": "#%%\n"
    }
   }
  },
  {
   "cell_type": "code",
   "execution_count": null,
   "metadata": {
    "collapsed": true,
    "pycharm": {
     "is_executing": true
    }
   },
   "outputs": [
    {
     "name": "stderr",
     "output_type": "stream",
     "text": [
      "[INFO 09-23 17:32:01] ax.service.utils.instantiation: Inferred value type of ParameterType.FLOAT for parameter lr. If that is not the expected value type, you can explicity specify 'value_type' ('int', 'float', 'bool' or 'str') in parameter dict.\n",
      "[INFO 09-23 17:32:01] ax.service.utils.instantiation: Inferred value type of ParameterType.FLOAT for parameter lr_factor. If that is not the expected value type, you can explicity specify 'value_type' ('int', 'float', 'bool' or 'str') in parameter dict.\n",
      "[INFO 09-23 17:32:01] ax.service.utils.instantiation: Inferred value type of ParameterType.INT for parameter patience. If that is not the expected value type, you can explicity specify 'value_type' ('int', 'float', 'bool' or 'str') in parameter dict.\n",
      "[INFO 09-23 17:32:01] ax.modelbridge.dispatch_utils: Using Bayesian Optimization generation strategy: GenerationStrategy(name='Sobol+GPEI', steps=[Sobol for 5 trials, GPEI for subsequent trials]). Iterations after 5 will take longer to generate due to  model-fitting.\n",
      "[INFO 09-23 17:32:01] ax.service.managed_loop: Started full optimization with 20 steps.\n",
      "[INFO 09-23 17:32:01] ax.service.managed_loop: Running optimization trial 1...\n",
      "[INFO 09-23 17:33:51] ax.service.managed_loop: Running optimization trial 2...\n",
      "[INFO 09-23 17:35:32] ax.service.managed_loop: Running optimization trial 3...\n",
      "[INFO 09-23 17:37:12] ax.service.managed_loop: Running optimization trial 4...\n",
      "[INFO 09-23 17:38:53] ax.service.managed_loop: Running optimization trial 5...\n",
      "[INFO 09-23 17:40:33] ax.service.managed_loop: Running optimization trial 6...\n",
      "[INFO 09-23 17:42:13] ax.service.managed_loop: Running optimization trial 7...\n",
      "[INFO 09-23 17:43:58] ax.service.managed_loop: Running optimization trial 8...\n",
      "[INFO 09-23 17:45:44] ax.service.managed_loop: Running optimization trial 9...\n"
     ]
    }
   ],
   "source": [
    "from src.train_lstm import *\n",
    "from ax.plot.contour import plot_contour\n",
    "from ax.utils.notebook.plotting import render, init_notebook_plotting\n",
    "\n",
    "warmup = 10\n",
    "x, y = load_dataset('data/simulations/2021-09-18_time_series.npz', warmup=10)\n",
    "x_train, x_validate, x_test, y_train, y_validate, y_test = split_dataset_deterministic(x, y, 0.7, 0.2, 0.1)\n",
    "x_train, x_validate, y_train, y_validate = to_torch(x_train, x_validate, y_train, y_validate)\n",
    "\n",
    "s = ParamSearch(x_train, y_train, x_validate, y_validate, 3_000)\n",
    "best_params, values, experiment, model = s.run()\n",
    "\n",
    "print('=== BEST PARAMS ===')\n",
    "print(best_params)\n",
    "\n",
    "print('=== VALUES ===')\n",
    "print(values)\n"
   ]
  },
  {
   "cell_type": "code",
   "execution_count": null,
   "outputs": [],
   "source": [
    "render(plot_contour(model=model, param_x='lr', param_y='lr_factor', metric_name='mse'))\n"
   ],
   "metadata": {
    "collapsed": false,
    "pycharm": {
     "name": "#%%\n",
     "is_executing": true
    }
   }
  }
 ],
 "metadata": {
  "kernelspec": {
   "display_name": "Python 3",
   "language": "python",
   "name": "python3"
  },
  "language_info": {
   "codemirror_mode": {
    "name": "ipython",
    "version": 2
   },
   "file_extension": ".py",
   "mimetype": "text/x-python",
   "name": "python",
   "nbconvert_exporter": "python",
   "pygments_lexer": "ipython2",
   "version": "2.7.6"
  }
 },
 "nbformat": 4,
 "nbformat_minor": 0
}